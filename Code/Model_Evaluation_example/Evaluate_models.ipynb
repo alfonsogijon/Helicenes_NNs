{
  "cells": [
    {
      "attachments": {},
      "cell_type": "markdown",
      "metadata": {
        "id": "TXTaTL5ux639"
      },
      "source": [
        "# Rmax prediction of 6-helicenes from neural networks models\n",
        "\n",
        "Linear and non-linear models have been built for regression of Rmax from a dataset of 6-helicenes with up to 4 halogens (F,Cl,Br,I) elements replacing the hydrogen atoms. \n",
        "\n",
        "The fundamental 6-helicene is made of 6 carbon rings with 16 bonding hydrogens. For the neural network model, each molecule is represented by a 16-component vector, each component associated to the position of one hydrogen. For example, a 6-helicene with a Fl atom in the position of the 4th hydrogen and a Br atom in the position of the 8th hydrogen atom is represented as:\n",
        "\n",
        "$$(H,H,H,Cl,H,H,H,Br,H,H,H,H,H,H,H,H)$$\n",
        "\n",
        "\n",
        "The models respect specular symmetry with respect to the middle of the molecule, which means that for the model:\n",
        "\n",
        "$$(H,H,H,Cl,H,H,H,Br,H,H,H,H,H,H,H,H) = (H,H,H,H,H,H,H,H,Br,H,H,H,Cl,H,H,H)$$"
      ]
    },
    {
      "cell_type": "code",
      "execution_count": null,
      "metadata": {
        "colab": {
          "base_uri": "https://localhost:8080/",
          "height": 35
        },
        "id": "t55j8z3rx64A",
        "outputId": "64e34ca3-3df1-448b-b679-7178dff4b0b0"
      },
      "outputs": [
        {
          "name": "stderr",
          "output_type": "stream",
          "text": [
            "2023-05-11 17:36:53.756080: I tensorflow/core/platform/cpu_feature_guard.cc:193] This TensorFlow binary is optimized with oneAPI Deep Neural Network Library (oneDNN) to use the following CPU instructions in performance-critical operations:  AVX2 AVX512F AVX512_VNNI FMA\n",
            "To enable them in other operations, rebuild TensorFlow with the appropriate compiler flags.\n",
            "2023-05-11 17:36:53.872558: I tensorflow/core/util/port.cc:104] oneDNN custom operations are on. You may see slightly different numerical results due to floating-point round-off errors from different computation orders. To turn them off, set the environment variable `TF_ENABLE_ONEDNN_OPTS=0`.\n",
            "2023-05-11 17:36:54.323899: W tensorflow/compiler/xla/stream_executor/platform/default/dso_loader.cc:64] Could not load dynamic library 'libnvinfer.so.7'; dlerror: libnvinfer.so.7: cannot open shared object file: No such file or directory\n",
            "2023-05-11 17:36:54.323946: W tensorflow/compiler/xla/stream_executor/platform/default/dso_loader.cc:64] Could not load dynamic library 'libnvinfer_plugin.so.7'; dlerror: libnvinfer_plugin.so.7: cannot open shared object file: No such file or directory\n",
            "2023-05-11 17:36:54.323950: W tensorflow/compiler/tf2tensorrt/utils/py_utils.cc:38] TF-TRT Warning: Cannot dlopen some TensorRT libraries. If you would like to use Nvidia GPU with TensorRT, please make sure the missing libraries mentioned above are installed properly.\n"
          ]
        },
        {
          "data": {
            "text/plain": [
              "'2.11.0'"
            ]
          },
          "execution_count": 1,
          "metadata": {},
          "output_type": "execute_result"
        }
      ],
      "source": [
        "# Load libraries\n",
        "\n",
        "import numpy as np\n",
        "import tensorflow as tf\n",
        "tf.__version__"
      ]
    },
    {
      "cell_type": "code",
      "execution_count": 4,
      "metadata": {
        "colab": {
          "base_uri": "https://localhost:8080/"
        },
        "id": "eYMYdK-o0JLh",
        "outputId": "f47a9734-b2d9-41c3-f807-1b61b8916844"
      },
      "outputs": [],
      "source": [
        "#from google.colab import drive\n",
        "#drive.mount('/content/drive')\n",
        "#!ls \"/content/drive/MyDrive\"\n",
        "#!pwd\n",
        "#working_dir = '/content/drive/MyDrive/Colab_Notebooks/Rmax_prediction_6Helicenes'\n",
        "working_dir = '.'"
      ]
    },
    {
      "cell_type": "code",
      "execution_count": 5,
      "metadata": {
        "id": "KsViWZZmx64B"
      },
      "outputs": [
        {
          "name": "stderr",
          "output_type": "stream",
          "text": [
            "2023-05-11 17:37:36.004640: I tensorflow/compiler/xla/stream_executor/cuda/cuda_gpu_executor.cc:981] successful NUMA node read from SysFS had negative value (-1), but there must be at least one NUMA node, so returning NUMA node zero\n",
            "2023-05-11 17:37:36.068289: W tensorflow/compiler/xla/stream_executor/platform/default/dso_loader.cc:64] Could not load dynamic library 'libcudnn.so.8'; dlerror: libcudnn.so.8: cannot open shared object file: No such file or directory\n",
            "2023-05-11 17:37:36.068508: W tensorflow/core/common_runtime/gpu/gpu_device.cc:1934] Cannot dlopen some GPU libraries. Please make sure the missing libraries mentioned above are installed properly if you would like to use GPU. Follow the guide at https://www.tensorflow.org/install/gpu for how to download and setup the required libraries for your platform.\n",
            "Skipping registering GPU devices...\n",
            "2023-05-11 17:37:36.069833: I tensorflow/core/platform/cpu_feature_guard.cc:193] This TensorFlow binary is optimized with oneAPI Deep Neural Network Library (oneDNN) to use the following CPU instructions in performance-critical operations:  AVX2 AVX512F AVX512_VNNI FMA\n",
            "To enable them in other operations, rebuild TensorFlow with the appropriate compiler flags.\n"
          ]
        }
      ],
      "source": [
        "# Load pre-trained model\n",
        "\n",
        "# model = tf.keras.models.load_model('./Models/R_model_invariant_linear')\n",
        "# model.summary()\n",
        "\n",
        "linear_model = tf.keras.models.load_model(working_dir+'/Models/R_model_invariant_linear')\n",
        "non_linear_model = tf.keras.models.load_model(working_dir+'/Models/R_model_invariant_non-linear_many-body_dropout')\n",
        "\n",
        "#print(linear_model.summary())\n",
        "#print(non_linear_model.summary())"
      ]
    },
    {
      "cell_type": "code",
      "execution_count": 6,
      "metadata": {
        "colab": {
          "base_uri": "https://localhost:8080/",
          "height": 174
        },
        "id": "kYwh3rvbx64C",
        "outputId": "b523ebf8-7009-48cd-945c-0933eec7fd90"
      },
      "outputs": [
        {
          "data": {
            "text/plain": [
              "\" # Examples\\nprint()\\nx_int = x0_int\\nx_int[2] = 3\\n#x_str2 = [int2str[str(k)] for k in x_int]\\nx_str2 = int_to_str(x_int)\\nprint(x_str2)\\nx_ohe2 = int_to_ohe(x_int)\\nprint(x_ohe2)\\n\\nprint()\\nx_str = x0_str\\nx_str[2] = 'Br'\\n#x_str2 = [int2str[str(k)] for k in x_int]\\nx_int2 = str_to_int(x_str)\\nprint(x_int2)\\nx_ohe2 = int_to_ohe(x_int2)\\nprint(x_ohe2)\\n\\n# Rmax calculation example (integer representation)\\nn_data = 1\\nx_input = np.zeros((n_data,n_features))\\nx = x0_int.copy()\\nx[2] = 3\\nx_ohe = int_to_ohe(x)\\nprint(x)\\nprint(x_ohe)\\nx_input[0,:] = x_ohe[:]\\nx_input = np.split(x_input,n_pos,axis=1)\\n#print(x_input)\\nRmax = model.predict(x_input)\\nRmax = float(Rmax)\\nprint(Rmax) \\n\\n# Example of molecule with integer representation\\nx = x0_int.copy()\\nx[2] = 3\\nx_input = int_to_input(x)\\nprint(float(model.predict(x_input))) \""
            ]
          },
          "execution_count": 6,
          "metadata": {},
          "output_type": "execute_result"
        }
      ],
      "source": [
        "# Auxiliar tools to define input molecules of the model\n",
        "\n",
        "#x_int = np.zeros(16)\n",
        "n_pos = 16\n",
        "x0_int = [0]*n_pos\n",
        "x0_str =['H']*n_pos\n",
        "#print('Fundamental 6-helicene:')\n",
        "#print(x0_int)\n",
        "#print(x0_str)\n",
        "\n",
        "# dictionary to convert integer representation to string representation\n",
        "int2str = {\n",
        "  \"0\": \"H\",\n",
        "  \"1\": \"Fl\",\n",
        "  \"2\": \"Cl\",\n",
        "  \"3\": \"Br\",\n",
        "  \"4\": \"I\"\n",
        "}\n",
        "\n",
        "# dictionary to convert string representation to integer representation\n",
        "str2int = {\n",
        "  \"H\": \"0\",\n",
        "  \"Fl\": \"1\",\n",
        "  \"Cl\": \"2\",\n",
        "  \"Br\": \"3\",\n",
        "  \"I\": \"4\"\n",
        "}\n",
        "\n",
        "# function to convert integer representation to string representation\n",
        "def int_to_str(x_int):\n",
        "  x_str = [int2str[str(k)] for k in x_int]\n",
        "  return x_str\n",
        "\n",
        "# function to convert string representation to integer representation\n",
        "def str_to_int(x_str):\n",
        "  x_int = [int(str2int[c]) for c in x_str]\n",
        "  return x_int\n",
        "\n",
        "# One-hot encode input features\n",
        "n_atom_types = 5 # there are 5 atom types: hydrogen and 4 halogens\n",
        "n_features = n_atom_types*n_pos\n",
        "\n",
        "# functions to define one-hot encoded vector being input of the model\n",
        "def int_to_ohe(x_int):\n",
        "  x_ohe = np.zeros(n_features) \n",
        "  for j in range(n_pos):\n",
        "    atom_id = x_int[j]\n",
        "    x_ohe[j*n_atom_types+atom_id] = 1.0\n",
        "  return x_ohe\n",
        "\n",
        "def str_to_ohe(x_str):\n",
        "  #x_int = [int_to_str[str(k)] for k in x_str]\n",
        "  x_int = str_to_int(x_str)\n",
        "  print(x_int)\n",
        "  x_ohe = np.zeros(n_features) \n",
        "  for j in range(n_pos):\n",
        "    atom_id = x_int[j]\n",
        "    x_ohe[j*n_atom_types+atom_id] = 1.0\n",
        "  return x_ohe\n",
        "\n",
        "# function to reshape the input as (1,n_features) and split it into multiple inputs\n",
        "# The model architecture is designed to respect symmetries\n",
        "def int_to_input(x_int):\n",
        "  x_input = np.zeros((1,n_features))\n",
        "  x_ohe = int_to_ohe(x_int)\n",
        "  x_input[0,:] = x_ohe[:]\n",
        "  x_input = np.split(x_input,n_pos,axis=1)\n",
        "  return x_input\n",
        "\n",
        "def str_to_input(x_str):\n",
        "  x_input = np.zeros((1,n_features))\n",
        "  x_int = str_to_int(x_str)\n",
        "  x_ohe = int_to_ohe(x_int)\n",
        "  x_input[0,:] = x_ohe[:]\n",
        "  x_input = np.split(x_input,n_pos,axis=1)\n",
        "  return x_input\n",
        "\n",
        "\"\"\" # Examples\n",
        "print()\n",
        "x_int = x0_int\n",
        "x_int[2] = 3\n",
        "#x_str2 = [int2str[str(k)] for k in x_int]\n",
        "x_str2 = int_to_str(x_int)\n",
        "print(x_str2)\n",
        "x_ohe2 = int_to_ohe(x_int)\n",
        "print(x_ohe2)\n",
        "\n",
        "print()\n",
        "x_str = x0_str\n",
        "x_str[2] = 'Br'\n",
        "#x_str2 = [int2str[str(k)] for k in x_int]\n",
        "x_int2 = str_to_int(x_str)\n",
        "print(x_int2)\n",
        "x_ohe2 = int_to_ohe(x_int2)\n",
        "print(x_ohe2)\n",
        "\n",
        "# Rmax calculation example (integer representation)\n",
        "n_data = 1\n",
        "x_input = np.zeros((n_data,n_features))\n",
        "x = x0_int.copy()\n",
        "x[2] = 3\n",
        "x_ohe = int_to_ohe(x)\n",
        "print(x)\n",
        "print(x_ohe)\n",
        "x_input[0,:] = x_ohe[:]\n",
        "x_input = np.split(x_input,n_pos,axis=1)\n",
        "#print(x_input)\n",
        "Rmax = model.predict(x_input)\n",
        "Rmax = float(Rmax)\n",
        "print(Rmax) \n",
        "\n",
        "# Example of molecule with integer representation\n",
        "x = x0_int.copy()\n",
        "x[2] = 3\n",
        "x_input = int_to_input(x)\n",
        "print(float(model.predict(x_input))) \"\"\"\n"
      ]
    },
    {
      "cell_type": "code",
      "execution_count": 7,
      "metadata": {
        "id": "8zrkQ-l7x64D"
      },
      "outputs": [],
      "source": [
        "# Auxiliar function to evaluate Rmax with original units\n",
        "\n",
        "R_mean = 591.451949\n",
        "R_std = 85.381995\n",
        "\n",
        "def calculate_Rmax(x,rep,mod):\n",
        "    if(rep=='int'): # integer represenation of the input vector\n",
        "        x_input = int_to_input(x)\n",
        "    elif(rep=='str'): # string represenation of the input vector\n",
        "        x_input = str_to_input(x)\n",
        "    if(mod=='linear'):\n",
        "        model = linear_model\n",
        "    elif(mod=='non_linear'):\n",
        "        model = non_linear_model\n",
        "    Rmax = float( model.predict(x_input) )\n",
        "    Rmax = Rmax * R_std + R_mean\n",
        "    return Rmax"
      ]
    },
    {
      "cell_type": "code",
      "execution_count": 8,
      "metadata": {
        "colab": {
          "base_uri": "https://localhost:8080/"
        },
        "id": "xmYLDZE3x64D",
        "outputId": "9d8eac63-63f5-4a33-e2e0-957cf1399f2a"
      },
      "outputs": [
        {
          "name": "stdout",
          "output_type": "stream",
          "text": [
            "Fundamental 6-helicene:\n",
            "[0, 0, 0, 0, 0, 0, 0, 0, 0, 0, 0, 0, 0, 0, 0, 0]\n",
            "['H', 'H', 'H', 'H', 'H', 'H', 'H', 'H', 'H', 'H', 'H', 'H', 'H', 'H', 'H', 'H']\n",
            "1/1 [==============================] - 0s 140ms/step\n",
            "\n",
            "Br in 5th position:\n",
            "[0, 0, 0, 0, 0, 3, 0, 0, 0, 0, 0, 0, 0, 0, 0, 0]\n",
            "647.629036339589\n",
            "1/1 [==============================] - 0s 21ms/step\n",
            "\n",
            "Br in 5h position:\n",
            "['H', 'H', 'H', 'H', 'H', 'Br', 'H', 'H', 'H', 'H', 'H', 'H', 'H', 'H', 'H', 'H']\n",
            "647.629036339589\n",
            "1/1 [==============================] - 0s 20ms/step\n",
            "\n",
            "Br in 10 position:\n",
            "['H', 'H', 'H', 'H', 'H', 'H', 'H', 'H', 'H', 'H', 'Br', 'H', 'H', 'H', 'H', 'H']\n",
            "647.629036339589\n",
            "1/1 [==============================] - 0s 87ms/step\n",
            "\n",
            "Br in 10 position, non-linear model:\n",
            "['H', 'H', 'H', 'H', 'H', 'H', 'H', 'H', 'H', 'H', 'Br', 'H', 'H', 'H', 'H', 'H']\n",
            "615.1709877956217\n"
          ]
        }
      ],
      "source": [
        "# Examples \n",
        "\n",
        "print('Fundamental 6-helicene:')\n",
        "print(x0_int)\n",
        "print(x0_str)\n",
        "\n",
        "# Note: x[] indexes range from 0 to 15 for the 16 components, as usual in Python\n",
        "\n",
        "# Example of molecule with integer representation: (0,1,2,3,4) for (H,F,Cl,Br,I)\n",
        "x = x0_int.copy()\n",
        "x[5] = 3\n",
        "Rmax = calculate_Rmax(x,rep='int',mod='linear')\n",
        "print()\n",
        "print('Br in 5th position:')\n",
        "print(x)\n",
        "print(Rmax)\n",
        "\n",
        "# Example of molecule with string representation\n",
        "x = x0_str.copy()\n",
        "x[5] = 'Br'\n",
        "Rmax = calculate_Rmax(x,rep='str',mod='linear')\n",
        "print()\n",
        "print('Br in 5h position:')\n",
        "print(x)\n",
        "print(Rmax)\n",
        "\n",
        "x = x0_str.copy()\n",
        "x[10] = 'Br'\n",
        "Rmax = calculate_Rmax(x,rep='str',mod='linear')\n",
        "print()\n",
        "print('Br in 10 position:')\n",
        "print(x)\n",
        "print(Rmax)\n",
        "\n",
        "x = x0_str.copy()\n",
        "x[10] = 'Br'\n",
        "Rmax = calculate_Rmax(x,rep='str',mod='non_linear')\n",
        "print()\n",
        "print('Br in 10 position, non-linear model:')\n",
        "print(x)\n",
        "print(Rmax)\n",
        "\n"
      ]
    },
    {
      "cell_type": "code",
      "execution_count": 24,
      "metadata": {},
      "outputs": [
        {
          "name": "stdout",
          "output_type": "stream",
          "text": [
            "[1. 0. 0. 0. 0. 2. 3. 0. 0. 0. 0. 0. 4. 0. 0. 0.]\n",
            "[0. 1. 0. 0. 0. 1. 0. 0. 0. 0. 1. 0. 0. 0. 0. 1. 0. 0. 0. 0. 1. 0. 0. 0.\n",
            " 0. 0. 0. 1. 0. 0. 0. 0. 0. 1. 0. 1. 0. 0. 0. 0. 1. 0. 0. 0. 0. 1. 0. 0.\n",
            " 0. 0. 1. 0. 0. 0. 0. 1. 0. 0. 0. 0. 0. 0. 0. 0. 1. 1. 0. 0. 0. 0. 1. 0.\n",
            " 0. 0. 0. 1. 0. 0. 0. 0.]\n"
          ]
        }
      ],
      "source": [
        "# Loop over molecules up to 4 substituents\n",
        "\n",
        "\n",
        "# This is only for 4 substituents!!!\n",
        "n_data = 16*4*15*3*14*2*13\n",
        "n_data = 16*4*15*3*14*2*13 + 16*4*15*3*14*2\n",
        "x_data = np.zeros((n_data,n_pos))\n",
        "Rmax_data = np.zeros(n_data)\n",
        "\n",
        "# Define input vector with integer representation\n",
        "i_data = 0\n",
        "for ipos in range(15):\n",
        "    for iat in range(1,5): # between 1 and 4\n",
        "        for jpos in range(15):\n",
        "            if(jpos!=ipos):\n",
        "                for jat in range(1,5):\n",
        "                    if(jat!=iat):\n",
        "                        for kpos in range(15):\n",
        "                            if (kpos!=ipos and kpos!=jpos):\n",
        "                                for kat in range(1,5):\n",
        "                                    if(kat!=iat and kat!=jat):\n",
        "                                        for lpos in range(15):\n",
        "                                            if(lpos!=ipos and lpos!=jpos and lpos!=kpos):\n",
        "                                                for lat in range(1,5):\n",
        "                                                    if(lat!=iat and lat!=jat and lat!=kat):\n",
        "                                                        x_data[i_data,ipos] = iat\n",
        "                                                        x_data[i_data,jpos] = jat\n",
        "                                                        x_data[i_data,kpos] = kat\n",
        "                                                        x_data[i_data,lpos] = lat\n",
        "                                                        i_data = i_data + 1\n",
        "\n",
        "\n",
        "# convert to one-hot encode vectors\n",
        "print(x_data[4000,:])\n",
        "\n",
        "def ohe(x_data):\n",
        "  x_ohe = np.zeros((x_data.shape[0],n_features))\n",
        "  for i in range(x_data.shape[0]):\n",
        "    for j in range(n_pos):\n",
        "        atom_id = int(x_data[i,j])\n",
        "        x_ohe[i,j*n_atom_types+atom_id] = 1.0\n",
        "  return x_ohe\n",
        "\n",
        "x_ohe = ohe(x_data)\n",
        "print(x_ohe[4000,:])\n"
      ]
    },
    {
      "cell_type": "code",
      "execution_count": 10,
      "metadata": {},
      "outputs": [
        {
          "name": "stdout",
          "output_type": "stream",
          "text": [
            "851760\n"
          ]
        }
      ],
      "source": [
        "### TEST\n",
        "import numpy as np\n",
        "\n",
        "n_data = 30000000\n",
        "n_pos = 16\n",
        "x_data = np.zeros((n_data,n_pos))\n",
        "Rmax_data = np.zeros(n_data)\n",
        "\n",
        "i_comb = 0\n",
        "for ipos in range(15):\n",
        "    for iat in range(5):\n",
        "        #for jpos in range(15):\n",
        "        for jpos in range(ipos+1,15):\n",
        "            #if(jpos!=ipos):\n",
        "                for jat in range(5):\n",
        "                    #for kpos in range(15):\n",
        "                    for kpos in range(jpos+1,15):\n",
        "                        #if(kpos!=ipos and kpos!=jpos):\n",
        "                            for kat in range(5):\n",
        "                                #for lpos in range(15):\n",
        "                                for lpos in range(kpos+1,15):    \n",
        "                                    #if(lpos!=ipos and lpos!=jpos and lpos!=kpos):\n",
        "                                        for lat in range(5):\n",
        "                                            if( (iat+jat+kat+lat)>0 ):\n",
        "                                                x_data[i_comb,ipos] = iat\n",
        "                                                x_data[i_comb,jpos] = jat\n",
        "                                                x_data[i_comb,kpos] = kat\n",
        "                                                x_data[i_comb,lpos] = lat\n",
        "                                                i_comb = i_comb + 1\n",
        "print(i_comb)\n",
        "\n",
        "\n"
      ]
    },
    {
      "cell_type": "code",
      "execution_count": 9,
      "metadata": {},
      "outputs": [
        {
          "name": "stdout",
          "output_type": "stream",
          "text": [
            "1\n",
            "2\n",
            "3\n",
            "4\n",
            "2\n",
            "3\n",
            "4\n",
            "3\n",
            "4\n",
            "4\n"
          ]
        }
      ],
      "source": [
        "for ipos in range(5):\n",
        "    for jpos in range(ipos+1,5):\n",
        "        print(jpos)"
      ]
    }
  ],
  "metadata": {
    "colab": {
      "provenance": []
    },
    "kernelspec": {
      "display_name": "Helicenes_venv",
      "language": "python",
      "name": "python3"
    },
    "language_info": {
      "codemirror_mode": {
        "name": "ipython",
        "version": 3
      },
      "file_extension": ".py",
      "mimetype": "text/x-python",
      "name": "python",
      "nbconvert_exporter": "python",
      "pygments_lexer": "ipython3",
      "version": "3.10.6"
    },
    "orig_nbformat": 4
  },
  "nbformat": 4,
  "nbformat_minor": 0
}
